{
 "cells": [
  {
   "cell_type": "code",
   "execution_count": 5,
   "id": "1cd6e2b8",
   "metadata": {},
   "outputs": [
    {
     "name": "stdout",
     "output_type": "stream",
     "text": [
      "<class 'float'>\n",
      "2187049402576\n"
     ]
    }
   ],
   "source": [
    "# Q1. Declare a float value and store it in a variable.\n",
    "# Check the type and print the id of the same.\n",
    "a=3.4\n",
    "print(type(a))\n",
    "print(id(a))"
   ]
  },
  {
   "cell_type": "code",
   "execution_count": 6,
   "id": "6f2d04d8",
   "metadata": {},
   "outputs": [
    {
     "name": "stdout",
     "output_type": "stream",
     "text": [
      "5.5\n",
      "0.9000000000000004\n",
      "7.359999999999999\n",
      "1.3913043478260871\n",
      "0.9000000000000004\n",
      "1.0\n",
      "14.515932837559118\n"
     ]
    }
   ],
   "source": [
    "# Q2. Arithmetic Operations on float\n",
    "# Take two different float values.\n",
    "# Store them in two different variables.\n",
    "# Do below operations on them:-\n",
    "#  Find sum of both numbers\n",
    "#  Find difference between them\n",
    "#  Find the product of both numbers.\n",
    "#  Find value after dividing first num with second number\n",
    "#  Find the remainder after dividing first number with second number\n",
    "#  Find the quotient after dividing first number with second number\n",
    "#  Find the result of the first num to the power of the second number.\n",
    "\n",
    "b=3.2\n",
    "c=2.3\n",
    "print(b+c)\n",
    "print(b-c)\n",
    "print(b*c)\n",
    "print(b/c)\n",
    "print(b%c)\n",
    "print(b//c)\n",
    "print(b**c)"
   ]
  },
  {
   "cell_type": "code",
   "execution_count": 7,
   "id": "0b177d3a",
   "metadata": {},
   "outputs": [
    {
     "name": "stdout",
     "output_type": "stream",
     "text": [
      "True\n",
      "False\n",
      "True\n",
      "False\n"
     ]
    }
   ],
   "source": [
    "# Q3. Comparison Operators on float\n",
    "# Take two different float values.\n",
    "# Store them in two different variables.\n",
    "# Do below operations on them:-\n",
    "#  Compare these two numbers with below operator:-\n",
    "#  Greater than, '>'\n",
    "#  Smaller than, '<'\n",
    "#  Greater than or equal to, '>='\n",
    "#  Less than or equal to, '<='\n",
    "# Observe their output(return type should be boolean)\n",
    "\n",
    "d=2.4\n",
    "e=1.2\n",
    "print(d>e)\n",
    "print(d<e)\n",
    "print(d>=e)\n",
    "print(d<=e)"
   ]
  },
  {
   "cell_type": "code",
   "execution_count": 8,
   "id": "d3bfa316",
   "metadata": {},
   "outputs": [
    {
     "name": "stdout",
     "output_type": "stream",
     "text": [
      "False\n",
      "True\n"
     ]
    }
   ],
   "source": [
    "# Q4. Equality Operator\n",
    "# Take two different float values.\n",
    "# Store them in two different variables.\n",
    "# Equate them using equality operators (==, !=)\n",
    "# Observe the output(return type should be boolean)\n",
    "f=5.6\n",
    "g=8.0\n",
    "print(f==g)\n",
    "print(f!=g)"
   ]
  },
  {
   "cell_type": "code",
   "execution_count": 9,
   "id": "df63de02",
   "metadata": {},
   "outputs": [
    {
     "name": "stdout",
     "output_type": "stream",
     "text": [
      "20.3\n",
      "0.0\n",
      "0.0\n",
      "0.0\n",
      "10.2\n",
      "20.3\n",
      "20.3\n",
      "0.0\n",
      "False\n",
      "True\n"
     ]
    }
   ],
   "source": [
    "# Q5. Logical operators\n",
    "# Observe the output of below code\n",
    "# Cross check the output manually\n",
    "# print(10.20 and 20.30) #both are true and second value taken\n",
    "# >Output is 20.3\n",
    "# print(0.0 and 20.30) #First is false so first value\n",
    "# taken->Output is 0.0\n",
    "# print(20.30 and 0.0) #Goes to till second and second value is\n",
    "# false so second is taken>Output is 0.0\n",
    "# print(0.0 and 0.0) #First is false so first value is\n",
    "# taken->Output is 0.0\n",
    "# print(10.20 or 20.30) #First is True so first value is\n",
    "# taken>Output is 10.2\n",
    "# print(0.0 or 20.30) #Goes to till second and second is true\n",
    "# second value is taken->Output is 20.3\n",
    "# print(20.30 or 0.0) #First is True so first value is\n",
    "# taken->Output is 20.3\n",
    "# print(0.0 or 0.0) #Goes to till second and second is also\n",
    "# false and second value is taken>Output is 0.0\n",
    "# print(not 10.20) #-Not of true is false->Output is False\n",
    "# print(not 0.0) #Not of false is True>Output is True\n",
    "print(10.20 and 20.30)\n",
    "print(0.0 and 20.30)\n",
    "print(20.30 and 0.0)\n",
    "print(0.0 and 0.0)\n",
    "print(10.20 or 20.30)\n",
    "print(0.0 or 20.30)\n",
    "print(20.30 or 0.0)\n",
    "print(0.0 or 0.0)\n",
    "print(not 10.20)\n",
    "print(not 0.0)"
   ]
  },
  {
   "cell_type": "code",
   "execution_count": 14,
   "id": "62911452",
   "metadata": {},
   "outputs": [
    {
     "name": "stdout",
     "output_type": "stream",
     "text": [
      "False\n",
      "True\n",
      "True\n",
      "2187049402992 2187049402992 2187049402864\n"
     ]
    }
   ],
   "source": [
    "# Q6. What is the output of expression inside print statement. Cross check\n",
    "# before running the program.\n",
    "# a = 10.20\n",
    "# b = 10.20\n",
    "# print(a is b) #True or False? True 10.20<256\n",
    "# print(a is not b) #True or False? False\n",
    "# Why the Id of float values are different when the same value is\n",
    "# assigned to two different variables\n",
    "# ex: a = 10.5 b=10.5. but id will be same if I assign the variable\n",
    "# having float i.e. a=c then both a and c's Id are same\n",
    "a=10.20\n",
    "b=10.20\n",
    "a=c\n",
    "print(a is b)\n",
    "print(a is not b)\n",
    "print( a is c)\n",
    "print(id(a),id(c),id(b))"
   ]
  },
  {
   "cell_type": "code",
   "execution_count": 17,
   "id": "02c37be2",
   "metadata": {},
   "outputs": [
    {
     "name": "stdout",
     "output_type": "stream",
     "text": [
      "True\n",
      "True\n"
     ]
    }
   ],
   "source": [
    "# Q7. Bitwise operation is not applicable between instances of float.\n",
    "# Why the Id of float values are different when the same value is\n",
    "# assigned to two different variables\n",
    "# ex: a = 10.5 b=10.5. but id will be same if I assign the variable\n",
    "# having float i.e. a=c then both a and c's Id are same\n",
    "# Object reusability concept is not applicable on float values.\n",
    "\n",
    "a=10.5\n",
    "b=10.5\n",
    "print(a is not b)# id's are different because object reusability concept is not applicale in float data type\n",
    "#For ex: 0 to 1 has  infinite number of float values, In Object reusability concept there is a limitation on each data type.\n",
    "c=a\n",
    "print(c is a)"
   ]
  },
  {
   "cell_type": "code",
   "execution_count": 19,
   "id": "8417555d",
   "metadata": {},
   "outputs": [
    {
     "name": "stdout",
     "output_type": "stream",
     "text": [
      "True\n",
      "True\n",
      "True\n",
      "True\n",
      "True\n",
      "True\n"
     ]
    }
   ],
   "source": [
    "# Q8. Membership operation\n",
    "# in, not in are two membership operators and it returns boolean value\n",
    "# print('2.7' in 'Python2.7.8') #True\n",
    "# print(10.20 in [10,10.20,10+20j,'Python']) #True\n",
    "# print(10.20 in (10,10.20,10+20j,'Python')) # True\n",
    "# print(20.30 in {1,20.30,30+40j}) # True\n",
    "# print(2.3 in {1:100, 2.3:200, 30+40j:300}) # True\n",
    "# print(10 in range(20)) \n",
    "print('2.7' in 'Python2.7.8') \n",
    "print(10.20 in [10,10.20,10+20j,'Python']) \n",
    "print(10.20 in (10,10.20,10+20j,'Python')) \n",
    "print(20.30 in {1,20.30,30+40j}) \n",
    "print(2.3 in {1:100, 2.3:200, 30+40j:300}) \n",
    "print(10 in range(20))"
   ]
  },
  {
   "cell_type": "code",
   "execution_count": null,
   "id": "7984e403",
   "metadata": {},
   "outputs": [],
   "source": []
  }
 ],
 "metadata": {
  "kernelspec": {
   "display_name": "Python 3",
   "language": "python",
   "name": "python3"
  },
  "language_info": {
   "codemirror_mode": {
    "name": "ipython",
    "version": 3
   },
   "file_extension": ".py",
   "mimetype": "text/x-python",
   "name": "python",
   "nbconvert_exporter": "python",
   "pygments_lexer": "ipython3",
   "version": "3.8.8"
  }
 },
 "nbformat": 4,
 "nbformat_minor": 5
}
