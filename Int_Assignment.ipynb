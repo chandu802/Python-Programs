{
 "cells": [
  {
   "cell_type": "markdown",
   "id": "611f4c5c",
   "metadata": {},
   "source": [
    "Q1. Declare an int value and store it in a variable.\n",
    "Check the type and print the id of the same.\n"
   ]
  },
  {
   "cell_type": "code",
   "execution_count": 6,
   "id": "728f2b7f",
   "metadata": {},
   "outputs": [
    {
     "name": "stdout",
     "output_type": "stream",
     "text": [
      "<class 'int'>\n",
      "140726580226128\n"
     ]
    }
   ],
   "source": [
    "a=10\n",
    "print(type(a))\n",
    "print(id(a))\n"
   ]
  },
  {
   "cell_type": "markdown",
   "id": "f4afc1f2",
   "metadata": {},
   "source": [
    "Q2. Take one int value between 0 - 256.\n",
    "Assign it to two different variables.\n",
    "Check the id of both the variables. It should come the same. Check why?\n"
   ]
  },
  {
   "cell_type": "code",
   "execution_count": 8,
   "id": "1e344637",
   "metadata": {},
   "outputs": [
    {
     "name": "stdout",
     "output_type": "stream",
     "text": [
      "140726580233968\n",
      "140726580233968\n",
      "True\n"
     ]
    }
   ],
   "source": [
    "b=255\n",
    "c=255\n",
    "print(id(b))\n",
    "print(id(c))\n",
    "print(b is c)"
   ]
  },
  {
   "cell_type": "markdown",
   "id": "e54ef29d",
   "metadata": {},
   "source": [
    "Q3. Take one int value either less than -5 or greater than 256.\n",
    "Assign it to two different variables.\n",
    "Check the id of both the variables. It should come different.Check why?\n"
   ]
  },
  {
   "cell_type": "code",
   "execution_count": 13,
   "id": "d046c0e6",
   "metadata": {},
   "outputs": [
    {
     "name": "stdout",
     "output_type": "stream",
     "text": [
      "1845325888432\n",
      "1845325888560\n",
      "False\n"
     ]
    }
   ],
   "source": [
    "d=-10\n",
    "e=-10\n",
    "print(id(d))\n",
    "print(id(e))\n",
    "print(d is e)"
   ]
  },
  {
   "cell_type": "markdown",
   "id": "704afde6",
   "metadata": {},
   "source": [
    "Q4. Arithmetic Operations on integers\n",
    "Take two different integer values.\n",
    "Store them in two different variables.\n",
    "Do below operations on them:-\n",
    " Find sum of both numbers\n",
    " Find difference between them\n",
    " Find the product of both numbers.\n",
    " Find value after dividing first num with second number\n",
    " Find the remainder after dividing first number with second number\n",
    " Find the quotient after dividing first number with second number\n",
    " Find the result of the first num to the power of the second number.\n"
   ]
  },
  {
   "cell_type": "code",
   "execution_count": 14,
   "id": "f3df6825",
   "metadata": {},
   "outputs": [
    {
     "name": "stdout",
     "output_type": "stream",
     "text": [
      "15\n",
      "9\n",
      "36\n",
      "4.0\n",
      "0\n",
      "4\n",
      "1728\n"
     ]
    }
   ],
   "source": [
    "# Q4. Arithmetic Operations on integers\n",
    "# Take two different integer values.\n",
    "# Store them in two different variables.\n",
    "# Do below operations on them:-\n",
    "#  Find sum of both numbers\n",
    "#  Find difference between them\n",
    "#  Find the product of both numbers.\n",
    "#  Find value after dividing first num with second number\n",
    "#  Find the remainder after dividing first number with second number\n",
    "#  Find the quotient after dividing first number with second number\n",
    "#  Find the result of the first num to the power of the second number.\n",
    "\n",
    "f=12\n",
    "g=3\n",
    "\n",
    "print(f+g)\n",
    "print(f-g)\n",
    "print(f*g)\n",
    "print(f/g)\n",
    "print(f%g)\n",
    "print(f//g)\n",
    "print(f**g)\n"
   ]
  },
  {
   "cell_type": "markdown",
   "id": "9434411a",
   "metadata": {},
   "source": [
    "Q5. Comparison Operators on integers\n",
    "Take two different integer values.\n",
    "Store them in two different variables.\n",
    "Do below operations on them:-\n",
    " Compare se two numbers with below operator:-\n",
    " Greater than, '>'\n",
    " Smaller than, '<'\n",
    " Greater than or equal to, '>='\n",
    " Less than or equal to, '<='\n",
    "Observe their output(return type should be boolean)\n"
   ]
  },
  {
   "cell_type": "code",
   "execution_count": 16,
   "id": "278a978e",
   "metadata": {},
   "outputs": [
    {
     "name": "stdout",
     "output_type": "stream",
     "text": [
      "False\n",
      "True\n",
      "False\n",
      "True\n"
     ]
    }
   ],
   "source": [
    "h=6\n",
    "i-8\n",
    "print(h>i)\n",
    "print(h<i)\n",
    "print(h>=i)\n",
    "print(h<=i)"
   ]
  },
  {
   "cell_type": "markdown",
   "id": "3c72a541",
   "metadata": {},
   "source": [
    "\n",
    "Q6. Equality Operator\n",
    "Take two different integer values.\n",
    "Store them in two different variables.\n",
    "Equate them using equality operators (==, !=)\n",
    "Observe the output(return type should be boolean)\n"
   ]
  },
  {
   "cell_type": "code",
   "execution_count": 17,
   "id": "5cb3f97c",
   "metadata": {},
   "outputs": [
    {
     "name": "stdout",
     "output_type": "stream",
     "text": [
      "False\n",
      "True\n"
     ]
    }
   ],
   "source": [
    "j=10\n",
    "k=13\n",
    "print(j==k)\n",
    "print(j!=k)\n",
    "\n"
   ]
  },
  {
   "cell_type": "markdown",
   "id": "42e74755",
   "metadata": {},
   "source": [
    "Q7. Logical operators\n",
    "Observe the output of below code\n",
    "Cross check the output manually\n",
    "print(10 and 20)\n",
    "#----------------------------------------->Output is 20\n",
    "print(0 and 20)\n",
    "#----------------------------------------->Output is 0\n",
    "print(20 and 0)\n",
    "#----------------------------------------->Output is 0\n",
    "print(0 and 0)\n",
    "#----------------------------------------->Output is 0\n",
    "print(10 or 20)\n",
    "#----------------------------------------->Output is 10\n",
    "print(0 or 20)\n",
    "#----------------------------------------->Output is 20\n",
    "print(20 or 0)\n",
    "#----------------------------------------->Output is 20\n",
    "print(0 or 0)\n",
    "#----------------------------------------->Output is 0\n",
    "print(not 10)\n",
    "#----------------------------------------->Output is False\n",
    "print(not 0)\n",
    "#----------------------------------------->Output is True"
   ]
  },
  {
   "cell_type": "code",
   "execution_count": 18,
   "id": "51984349",
   "metadata": {},
   "outputs": [
    {
     "name": "stdout",
     "output_type": "stream",
     "text": [
      "20\n",
      "0\n",
      "0\n",
      "0\n",
      "10\n",
      "20\n",
      "20\n",
      "0\n",
      "False\n",
      "True\n"
     ]
    }
   ],
   "source": [
    "# Q7. Logical operators\n",
    "# Observe the output of below code\n",
    "# Cross check the output manually\n",
    "# print(10 and 20)\n",
    "# #----------------------------------------->Output is 20\n",
    "# print(0 and 20)\n",
    "# #----------------------------------------->Output is 0\n",
    "# print(20 and 0)\n",
    "# #----------------------------------------->Output is 0\n",
    "# print(0 and 0)\n",
    "# #----------------------------------------->Output is 0\n",
    "# print(10 or 20)\n",
    "# #----------------------------------------->Output is 10\n",
    "# print(0 or 20)\n",
    "# #----------------------------------------->Output is 20\n",
    "# print(20 or 0)\n",
    "# #----------------------------------------->Output is 20\n",
    "# print(0 or 0)\n",
    "# #----------------------------------------->Output is 0\n",
    "# print(not 10)\n",
    "# #----------------------------------------->Output is False\n",
    "# print(not 0)\n",
    "# #----------------------------------------->Output is True\n",
    "\n",
    "print(10 and 20)\n",
    "print(0 and 20)\n",
    "print(20 and 0)\n",
    "print(0 and 0)\n",
    "print(10 or 20)\n",
    "print(0 or 20)\n",
    "print(20 or 0)\n",
    "print(0 or 0)\n",
    "print(not 10)\n",
    "print(not 0)"
   ]
  },
  {
   "cell_type": "markdown",
   "id": "48e269d4",
   "metadata": {},
   "source": [
    "Q8.. Bitwise Operators\n",
    "Do below operations on the values provided below:-\n",
    " Bitwise and(&) -----------------------------------------> 10, 20\n",
    "-------> Output is 0\n",
    " Bitwise or(|) -----------------------------------------> 10, 20\n",
    "-------> Output is 30\n",
    " Bitwise(^) -----------------------------------------> 10, 20\n",
    "-------> Output is 30\n",
    " Bitwise negation(~) ------------------------------------> 10\n",
    "-------> Output is -11\n",
    " Bitwise left shift ------------------------------------> 10,2\n",
    "-------> Output is 40\n",
    " Bitwise right shift ------------------------------------> 10,2\n",
    "-------> Output is 2\n",
    "Cross check the output manually\n"
   ]
  },
  {
   "cell_type": "code",
   "execution_count": 26,
   "id": "ad58dedc",
   "metadata": {},
   "outputs": [
    {
     "name": "stdout",
     "output_type": "stream",
     "text": [
      "0\n",
      "30\n",
      "30\n",
      "-11\n",
      "40\n",
      "2\n"
     ]
    }
   ],
   "source": [
    "# Q8. Bitwise Operators\n",
    "# Do below operations on the values provided below:-\n",
    "#  Bitwise and(&) -----------------------------------------> 10, 20\n",
    "# -------> Output is 0\n",
    "#  Bitwise or(|) -----------------------------------------> 10, 20\n",
    "# -------> Output is 30\n",
    "#  Bitwise(^) -----------------------------------------> 10, 20\n",
    "# -------> Output is 30\n",
    "#  Bitwise negation(~) ------------------------------------> 10\n",
    "# -------> Output is -11\n",
    "#  Bitwise left shift ------------------------------------> 10,2\n",
    "# -------> Output is 40\n",
    "#  Bitwise right shift ------------------------------------> 10,2\n",
    "# -------> Output is 2\n",
    "# Cross check the output manually\n",
    "\n",
    "print(10 & 20)\n",
    "print(10 | 20)\n",
    "print(10 ^ 20)\n",
    "print(~10)\n",
    "print(10 << 2)\n",
    "print(10 >> 2)"
   ]
  },
  {
   "cell_type": "markdown",
   "id": "108f400f",
   "metadata": {},
   "source": [
    "Q9. What is the output of expression inside print statement. Cross check\n",
    "before running the program.\n",
    "a = 10\n",
    "b = 10\n",
    "print(a is b) #True or False?\n",
    "print(a is not b) #True or False?\n",
    "a = 1000\n",
    "b = 1000\n",
    "print(a is b) #True or False?\n",
    "print(a is not b) #True or False?\n"
   ]
  },
  {
   "cell_type": "code",
   "execution_count": 29,
   "id": "d3cb82be",
   "metadata": {},
   "outputs": [
    {
     "name": "stdout",
     "output_type": "stream",
     "text": [
      "True\n",
      "False\n",
      "False\n",
      "True\n"
     ]
    }
   ],
   "source": [
    "a = 10\n",
    "b = 10\n",
    "print(a is b) #True or False?\n",
    "print(a is not b) #True or False?\n",
    "a = 1000\n",
    "b = 1000\n",
    "print(a is b) #True or False?\n",
    "print(a is not b) #True or False?\n"
   ]
  },
  {
   "cell_type": "markdown",
   "id": "259a268c",
   "metadata": {},
   "source": [
    "Q10. What is the output of expression inside print statement. Cross check\n",
    "before running the program.\n",
    "print(10+(10*32)//2**5&20+(~(-10))<<2)\n"
   ]
  },
  {
   "cell_type": "code",
   "execution_count": 32,
   "id": "faaddce9",
   "metadata": {},
   "outputs": [
    {
     "name": "stdout",
     "output_type": "stream",
     "text": [
      "20\n"
     ]
    }
   ],
   "source": [
    "print(10+(10*32)//2**5&20+(~(-10))<<2)"
   ]
  },
  {
   "cell_type": "markdown",
   "id": "7f7d0ee7",
   "metadata": {},
   "source": [
    "Q11. Membership operation\n",
    "in, not in are two membership operators and it returns boolean value\n",
    "print('2' in 'Python2.7.8')\n",
    "print(10 in [10,10.20,10+20j,'Python'])\n",
    "print(10 in (10,10.20,10+20j,'Python'))\n",
    "print(2 in {1,2,3})\n",
    "print(3 in {1:100, 2:200, 3:300})\n",
    "print(10 in range(20))"
   ]
  },
  {
   "cell_type": "code",
   "execution_count": 35,
   "id": "bf3492cb",
   "metadata": {},
   "outputs": [
    {
     "name": "stdout",
     "output_type": "stream",
     "text": [
      "True\n",
      "True\n",
      "True\n",
      "True\n",
      "True\n",
      "True\n"
     ]
    }
   ],
   "source": [
    "# Q11 Membership operation\n",
    "# in, not in are two membership operators and it returns boolean value\n",
    "print('2' in 'Python2.7.8')\n",
    "print(10 in [10,10.20,10+20j,'Python'])\n",
    "print(10 in (10,10.20,10+20j,'Python'))\n",
    "print(2 in {1,2,3})\n",
    "print(3 in {1:100, 2:200, 3:300})\n",
    "print(10 in range(20))\n"
   ]
  },
  {
   "cell_type": "markdown",
   "id": "6e223b68",
   "metadata": {},
   "source": [
    "Q12. An integer can be represented in binary, octal or hexadecimal form.\n",
    "Declare one binary, one octal and one hexadecimal value and store them\n",
    "in three different variables.\n",
    "Convert 9876 to its binary, octal and hexadecimal equivalent and print\n",
    "their corresponding value.\n"
   ]
  },
  {
   "cell_type": "code",
   "execution_count": 38,
   "id": "81b193c7",
   "metadata": {},
   "outputs": [
    {
     "name": "stdout",
     "output_type": "stream",
     "text": [
      "9876 0b10011010010100\n",
      "9876 0o23224\n",
      "9876 0x2694\n"
     ]
    }
   ],
   "source": [
    "#Binary\n",
    "l=9876\n",
    "bin_l=bin(l)\n",
    "print(l,bin_l)\n",
    "\n",
    "#Octal\n",
    "m=9876\n",
    "Oct_m=oct(l)\n",
    "print(m,Oct_m)\n",
    "\n",
    "#Hexadecimal\n",
    "n=9876\n",
    "Hex_n=hex(n)\n",
    "print(n,Hex_n)"
   ]
  },
  {
   "cell_type": "markdown",
   "id": "8f56a1c1",
   "metadata": {},
   "source": [
    "Q13. What will be the output of following:-\n",
    "a = 0b1010000\n",
    "print(a)\n",
    "b = 0o7436\n",
    "print(b)\n",
    "c = 0xfade\n",
    "print(c)\n",
    "print(bin(80))\n",
    "print(oct(3870))\n",
    "print(hex(64222))\n",
    "print(bin(0b1010000))\n",
    "print(bin(0xfade))\n",
    "print(oct(0xfade))\n",
    "print(oct(0o7436))\n",
    "print(hex(0b1010000))\n",
    "print(hex(0xfade)"
   ]
  },
  {
   "cell_type": "code",
   "execution_count": 43,
   "id": "5c412616",
   "metadata": {},
   "outputs": [
    {
     "name": "stdout",
     "output_type": "stream",
     "text": [
      "80\n",
      "3870\n",
      "64222\n",
      "0b1010000\n",
      "0o7436\n",
      "0xfade\n",
      "0b1010000\n",
      "0b1111101011011110\n",
      "0o175336\n",
      "0o7436\n",
      "0x50\n",
      "0xfade\n"
     ]
    }
   ],
   "source": [
    "#Q13. What will be the output of following:-\n",
    "a = 0b1010000\n",
    "print(a)\n",
    "b = 0o7436\n",
    "print(b)\n",
    "c = 0xfade\n",
    "print(c)\n",
    "print(bin(80))\n",
    "print(oct(3870))\n",
    "print(hex(64222))\n",
    "print(bin(0b1010000))\n",
    "print(bin(0xfade))\n",
    "print(oct(0xfade))\n",
    "print(oct(0o7436))\n",
    "print(hex(0b1010000))\n",
    "print(hex(0xfade))"
   ]
  }
 ],
 "metadata": {
  "kernelspec": {
   "display_name": "Python 3",
   "language": "python",
   "name": "python3"
  },
  "language_info": {
   "codemirror_mode": {
    "name": "ipython",
    "version": 3
   },
   "file_extension": ".py",
   "mimetype": "text/x-python",
   "name": "python",
   "nbconvert_exporter": "python",
   "pygments_lexer": "ipython3",
   "version": "3.8.8"
  }
 },
 "nbformat": 4,
 "nbformat_minor": 5
}
