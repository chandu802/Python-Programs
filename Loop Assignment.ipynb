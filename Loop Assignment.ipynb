{
 "cells": [
  {
   "cell_type": "code",
   "execution_count": 4,
   "metadata": {},
   "outputs": [
    {
     "name": "stdout",
     "output_type": "stream",
     "text": [
      "One\n"
     ]
    }
   ],
   "source": [
    "# Q1. W. A P. which takes one number from 0 to 9 from the user and prints\n",
    "# it in the word. And if the word is not from 0 to 9 then\n",
    "# it should print that number is outside of the range and program should\n",
    "# exit.\n",
    "# For exapmple:-\n",
    "# input = 1\n",
    "# output = one\n",
    "i=int(input('Enter a one number:'))\n",
    "if i==0:\n",
    "    print('Zero')\n",
    "elif i==1:\n",
    "    print('One')\n",
    "elif i==2:\n",
    "    print('Two')\n",
    "elif i==3:\n",
    "    print('Three')\n",
    "elif i==4:\n",
    "    print('Four')\n",
    "elif i==5:\n",
    "    print('Five')\n",
    "elif i==6:\n",
    "    print('Six')\n",
    "elif i==7:\n",
    "    print('Seven')\n",
    "elif i==8:\n",
    "    print('Eight')\n",
    "elif i==8:\n",
    "    print('Nine')\n",
    "else:\n",
    "    print('Number is outside of range')\n",
    "\n",
    "\n",
    "\n",
    "\n",
    "\n",
    "\n"
   ]
  },
  {
   "cell_type": "code",
   "execution_count": 7,
   "metadata": {},
   "outputs": [
    {
     "name": "stdout",
     "output_type": "stream",
     "text": [
      "Please select any one operation from below:-\n",
      "* To add enter 1\n",
      "* to subtract enter 2\n",
      "* To multiply enter 3\n",
      "* To divide enter 4\n",
      "* To divide and find quotient enter 5\n",
      "* To divide and find remainder enter 6\n",
      "* To divide and find num1 to the power of num2 enter 7\n",
      "* To Come out of the program enter 8\n",
      "20.0 % 10.0 = 0.0\n",
      "20.0 // 10.0 = 2.0\n",
      "20.0 // 10.0 = 2.0\n",
      "Invalid Input\n"
     ]
    }
   ],
   "source": [
    "# Q2. W. A P. to implement calculator but the operation to be done and two\n",
    "# numbers will be taken as input from user:-\n",
    "# Operation console should show below:-\n",
    "#  Please select any one operation from below:-\n",
    "#  * To add enter 1\n",
    "#  * to subtract enter 2\n",
    "#  * To multiply enter 3\n",
    "#  * To divide enter 4\n",
    "#  * To divide and find quotient enter 5\n",
    "#  * To divide and find remainder enter 6\n",
    "#  * To divide and find num1 to the power of num2 enter 7\n",
    "#  * To Come out of the program enter 8\n",
    "# Program make a simple calculator\n",
    "\n",
    "\n",
    "\n",
    "print(\"Please select any one operation from below:-\")\n",
    "print(\"* To add enter 1\")\n",
    "print(\"* to subtract enter 2\")\n",
    "print(\"* To multiply enter 3\")\n",
    "print(\"* To divide enter 4\")\n",
    "print(\"* To divide and find quotient enter 5\")\n",
    "print(\"* To divide and find remainder enter 6\")\n",
    "print(\"* To divide and find num1 to the power of num2 enter 7\")\n",
    "print(\"* To Come out of the program enter 8\")\n",
    "while True:\n",
    "    # take input from the user\n",
    "    choice = input(\"Enter choice(1/2/3/4/5/6/7/8): \")\n",
    "\n",
    "    # check if choice is one of the four options\n",
    "    if choice in ('1', '2', '3', '4','5','6','7','8'):\n",
    "        num1 = float(input(\"Enter first number: \"))\n",
    "        num2 = float(input(\"Enter second number: \"))\n",
    "\n",
    "        if choice == '1':\n",
    "            print(num1, \"+\", num2, \"=\", num1+num2)\n",
    "\n",
    "        elif choice == '2':\n",
    "            print(num1, \"-\", num2, \"=\", num1-num2)\n",
    "\n",
    "        elif choice == '3':\n",
    "            print(num1, \"*\", num2, \"=\", num1*num2)\n",
    "\n",
    "        elif choice == '4':\n",
    "            print(num1, \"/\", num2, \"=\", num1/num2)\n",
    "        elif choice == '5':\n",
    "            print(num1, \"//\", num2, \"=\", num1//num2)\n",
    "        elif choice == '6':\n",
    "            print(num1, \"%\", num2, \"=\", num1%num2)\n",
    "        elif choice == '7':\n",
    "            print(num1, \"**\", num2, \"=\", num1**num2)\n",
    "        elif choice == '8':\n",
    "            break\n",
    "        \n",
    "    \n",
    "    else:\n",
    "        print(\"Invalid Input\")\n"
   ]
  },
  {
   "cell_type": "code",
   "execution_count": 10,
   "metadata": {},
   "outputs": [
    {
     "name": "stdout",
     "output_type": "stream",
     "text": [
      "Non-Leap Year\n"
     ]
    }
   ],
   "source": [
    "# Q3. W A P to check whether a year entered by user is an leap year or not?\n",
    "# Check with below input:-\n",
    "#  leap year:- 2012, 1968, 2004, 1200, 1600,2400\n",
    "#  Non-lear year:- 1971, 2006, 1700,1800,1900\n",
    "\n",
    "def checkYear(year):\n",
    "    if (year % 4) == 0:\n",
    "        if (year % 100) == 0:\n",
    "            if (year % 400) == 0:\n",
    "                return True\n",
    "            else:\n",
    "                return False\n",
    "        else:\n",
    "             return True\n",
    "    else:\n",
    "        return False\n",
    " \n",
    "# Driver Code\n",
    "year = int(input('Enter a year'))\n",
    "if(checkYear(year)):\n",
    "    print(\"Leap Year\")\n",
    "else:\n",
    "    print(\"Non-Leap Year\")"
   ]
  },
  {
   "cell_type": "code",
   "execution_count": 21,
   "metadata": {},
   "outputs": [
    {
     "name": "stdout",
     "output_type": "stream",
     "text": [
      "Number is odd number\n"
     ]
    }
   ],
   "source": [
    "# Q4. W A P which takes one number from the user and checks whether it is\n",
    "# an even or odd number?, If it even then prints number is\n",
    "# even number else prints that number is odd number.\n",
    "\n",
    "def is_EvenOdd(n):\n",
    "     \n",
    "    if(n % 2 == 0):\n",
    "        return True\n",
    "     \n",
    "    else :\n",
    "        return False\n",
    "\n",
    "num=eval(input('enter a number'))\n",
    "if(is_EvenOdd(num)==1):\n",
    "    print('Number is an even number')\n",
    "else:\n",
    "    print('Number is odd number')\n"
   ]
  },
  {
   "cell_type": "code",
   "execution_count": 3,
   "metadata": {},
   "outputs": [
    {
     "name": "stdout",
     "output_type": "stream",
     "text": [
      "************Using if-else condition********\n",
      "num1 is smaller than num2\n",
      "num1 and num2 are not equal\n",
      "************Using ternary operator********\n",
      "num1 is smaller than num2\n"
     ]
    }
   ],
   "source": [
    "# Q5. W A P which takes two numbers from the user and prints below output:-\n",
    "#  1. num1 is greater than num2 if num1 is greater than num2\n",
    "#  2. num1 is smaller than num2 if num1 is smaller than num2\n",
    "#  3. num1 is equal to num2 if num1 and num2 are equal\n",
    "# Note:- 1. Do this problem using if - else\n",
    "#  2. Do this using ternary operator\n",
    "\n",
    "num1=eval(input('enter a number1'))\n",
    "num2=eval(input('enter a number2'))\n",
    "print('************Using if-else condition********')\n",
    "if(num1 > num2):\n",
    "    print('num1 is greater than num2')\n",
    "else:\n",
    "    print('num1 is smaller than num2')\n",
    "if(num1==num2):\n",
    "    print('num1 and num2 are equal')\n",
    "else:\n",
    "    print('num1 and num2 are not equal')\n",
    "print('************Using ternary operator********')\n",
    "print (\"num1 is equal to num2\" if num1 == num2 else \"num1 is greater than num2\"\n",
    "        if num1 > num2 else \"num1 is smaller than num2\")"
   ]
  },
  {
   "cell_type": "code",
   "execution_count": 8,
   "metadata": {},
   "outputs": [
    {
     "name": "stdout",
     "output_type": "stream",
     "text": [
      "****************Using if-elif***********\n",
      "Num1 is greater than num2 and num3\n",
      "****************Using ternary operator***********\n",
      "Num1 is greater than num2 & num3\n"
     ]
    }
   ],
   "source": [
    "# Q6. W A P which takes three numbers from the user and prints below\n",
    "# output:-\n",
    "#  1. num1 is greater than num2 and num3 if num1 is greater than num2\n",
    "# and num3\n",
    "#  2. num2 is greater than num1 and num3 if num2 is greater than num1\n",
    "# and num3\n",
    "#  3. num3 is greater than num1 and num2 if num3 is greater than num1\n",
    "# and num2\n",
    "# Note:- 1. Do this problem using if - elif - else\n",
    "#  2. Do this using ternary operator\n",
    "# a = a if a>b else b\n",
    "\n",
    "num1=eval(input('enter first number'))\n",
    "num2=eval(input('enter second number'))\n",
    "num3=eval(input('enter third number'))\n",
    "print('****************Using if-elif***********')\n",
    "if num1 > num2 and num1>num3:\n",
    "    print('Num1 is greater than num2 and num3')\n",
    "elif num2 > num1 and num2 > num3:\n",
    "    print('num2 is greater than num1 and num3')\n",
    "elif num3 > num1 and num3 > num2:\n",
    "    print('num3 is greater than num1 and num2')\n",
    "print('****************Using ternary operator***********')\n",
    "print(\"Num1 is greater than num2 & num3\" if (num1 >num2 and num1 >num3) else \"Num2 is greater than num1 & num3\"  if (num2>num1 and num2 > num3) else \"num3 is greater than num1 and num2\" )"
   ]
  },
  {
   "cell_type": "code",
   "execution_count": 3,
   "metadata": {},
   "outputs": [
    {
     "name": "stdout",
     "output_type": "stream",
     "text": [
      "55\n"
     ]
    }
   ],
   "source": [
    "# Q7. Write a Python program to find the length of the my_str using loop:-\n",
    "# Input:- 'Write a Python program to find the length of the my_str'\n",
    "# Output:- 55\n",
    "str1='Write a Python program to find the length of the my_str'\n",
    "cnt=0\n",
    "for i in str1:\n",
    "    cnt+=1\n",
    "print(cnt)\n"
   ]
  },
  {
   "cell_type": "code",
   "execution_count": 6,
   "metadata": {},
   "outputs": [
    {
     "name": "stdout",
     "output_type": "stream",
     "text": [
      "9\n"
     ]
    }
   ],
   "source": [
    "# Q8. Write a Python program to find the total number of times letter 'p'\n",
    "# is appeared in the below string using loop:-\n",
    "# Input:- 'peter piper picked a peck of pickled peppers.\\n'\n",
    "# Output:- 9\n",
    "str1='peter piper picked a peck of pickled peppers.\\n'\n",
    "cnt=0\n",
    "for i in str1:\n",
    "    if i=='p':\n",
    "        cnt+=1\n",
    "print(cnt)"
   ]
  },
  {
   "cell_type": "code",
   "execution_count": 12,
   "metadata": {},
   "outputs": [
    {
     "name": "stdout",
     "output_type": "stream",
     "text": [
      "0\n",
      "6\n",
      "8\n",
      "12\n",
      "21\n",
      "29\n",
      "37\n",
      "39\n",
      "40\n"
     ]
    }
   ],
   "source": [
    "# Q9. Write a Python Program, to print all the indexes of all occurences of\n",
    "# letter 'p' appeared in the string using loop:-\n",
    "# Input:- 'peter piper picked a peck of pickled peppers.'\n",
    "# Output:-\n",
    "# 0\n",
    "# 6\n",
    "# 8\n",
    "# 12\n",
    "# 21\n",
    "# 29\n",
    "# 37\n",
    "# 39\n",
    "# 40\n",
    "str1 ='peter piper picked a peck of pickled peppers.'\n",
    "index=0\n",
    "for i in str1:\n",
    "    if i=='p':\n",
    "        print(index)\n",
    "    index+=1\n"
   ]
  },
  {
   "cell_type": "code",
   "execution_count": 14,
   "metadata": {},
   "outputs": [
    {
     "name": "stdout",
     "output_type": "stream",
     "text": [
      "['peter', 'piper', 'picked', 'a', 'peck', 'of', 'pickled', 'peppers.']\n"
     ]
    }
   ],
   "source": [
    "# Q10. Write a python program to find below output using loop:-\n",
    "# Input:- 'peter piper picked a peck of pickled peppers.'\n",
    "# Output:- ['peter', 'piper', 'picked', 'a', 'peck', 'of', 'pickled',\n",
    "# 'peppers']\n",
    "str1='peter piper picked a peck of pickled peppers.'\n",
    "res_lst=[]\n",
    "empty_str=''\n",
    "for i in range(len(str1)):\n",
    "    if str1[i]==' ':\n",
    "        res_lst+=[empty_str]\n",
    "        empty_str=''\n",
    "    elif i==len(str1)-1:\n",
    "        empty_str=empty_str+str1[i]\n",
    "        res_lst+=[empty_str]\n",
    "    else:\n",
    "        empty_str=empty_str+str1[i]\n",
    "print(res_lst)\n",
    "\n",
    "\n"
   ]
  },
  {
   "cell_type": "code",
   "execution_count": 24,
   "metadata": {},
   "outputs": [
    {
     "name": "stdout",
     "output_type": "stream",
     "text": [
      " peppers pickled of peck a picked piper peter\n"
     ]
    }
   ],
   "source": [
    "# Q11. Write a python program to find below output using loop:-\n",
    "# Input:- 'peter piper picked a peck of pickled peppers.'\n",
    "# Output:- 'peppers pickled of peck a picked piper peter'\n",
    "\n",
    "str1='peter piper picked a peck of pickled peppers.'\n",
    "res_str=''\n",
    "sp_count=1\n",
    "out_str=''\n",
    "for i in range(-1,-len(str1)-1,-1):\n",
    "    if str1[i]==' ' or str1[i].isalnum()==0:\n",
    "        if sp_count==1:\n",
    "            res_str+=out_str\n",
    "            sp_count+=1\n",
    "            out_str=''\n",
    "        else:\n",
    "            res_str=res_str+' '+out_str\n",
    "            out_str=''\n",
    "    else:\n",
    "        out_str=str1[i]+out_str\n",
    "res_str=res_str+' '+out_str\n",
    "print(res_str)\n",
    "\n"
   ]
  },
  {
   "cell_type": "code",
   "execution_count": 25,
   "metadata": {},
   "outputs": [
    {
     "name": "stdout",
     "output_type": "stream",
     "text": [
      ".sreppep delkcip fo kcep a dekcip repip retep\n"
     ]
    }
   ],
   "source": [
    "# Q12. Write a python program to find below output using loop:-\n",
    "# Input:- 'peter piper picked a peck of pickled peppers.'\n",
    "# Output:- '.sreppep delkcip fo kcep a dekcip repip retep'\n",
    "\n",
    "str1='peter piper picked a peck of pickled peppers.'\n",
    "res_str=''\n",
    "for i in range(-1,-len(str1)-1,-1):\n",
    "    res_str+=str1[i]\n",
    "print(res_str)\n"
   ]
  },
  {
   "cell_type": "code",
   "execution_count": 27,
   "metadata": {},
   "outputs": [
    {
     "name": "stdout",
     "output_type": "stream",
     "text": [
      "sreppepdelkcipfokcepadekciprepipretep.\n"
     ]
    }
   ],
   "source": [
    "# Q. Write a python program to find below output using loop:-\n",
    "# Input:- 'peter piper picked a peck of pickled peppers.'\n",
    "# Output:- 'retep repip dekcip a kcep fo delkcip sreppep'\n",
    "str1='peter piper picked a peck of pickled peppers.'\n",
    "res_str=''\n",
    "empty_str=''\n",
    "for i in range(len(str1)):\n",
    "    if str1[i]==' ' or str1[i].isalnum()==0:\n",
    "        res_str=str1[i]+empty_str\n",
    "    elif i==len(str1)-1:\n",
    "        empty_str=empty_str+str1[i]\n",
    "        res_str=empty_str+res_str\n",
    "    else:\n",
    "        empty_str=str1[i]+empty_str\n",
    "print(res_str)"
   ]
  }
 ],
 "metadata": {
  "interpreter": {
   "hash": "b3ba2566441a7c06988d0923437866b63cedc61552a5af99d1f4fb67d367b25f"
  },
  "kernelspec": {
   "display_name": "Python 3.8.8 64-bit ('base': conda)",
   "language": "python",
   "name": "python3"
  },
  "language_info": {
   "codemirror_mode": {
    "name": "ipython",
    "version": 3
   },
   "file_extension": ".py",
   "mimetype": "text/x-python",
   "name": "python",
   "nbconvert_exporter": "python",
   "pygments_lexer": "ipython3",
   "version": "3.8.8"
  },
  "orig_nbformat": 4
 },
 "nbformat": 4,
 "nbformat_minor": 2
}
