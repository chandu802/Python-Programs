{
  "cells": [
    {
      "cell_type": "code",
      "execution_count": 2,
      "metadata": {
        "id": "2k4ZB9yltJCa"
      },
      "outputs": [
        {
          "name": "stdout",
          "output_type": "stream",
          "text": [
            "{'email': 'tom_latham019@gmail.com', 'Phone': 1987654321, 'City': 'California'}\n",
            "{'email': 'kathy_abram897@gmail.com', 'Phone': 1887654321, 'City': 'New York'}\n"
          ]
        }
      ],
      "source": [
        "# Initialize a dictionary \"emp_info\" with below details\n",
        "# In - emp_info['Tom']\n",
        "# Out - {'email':'tom_latham019@gmail.com', 'Phone': +1987654321, 'City': 'California'}\n",
        "\n",
        "# In - emp_info['Kathy']\n",
        "# Out - {'email':'kathy_abram897@gmail.com', 'Phone': +1887654321, 'City': 'New York'}\n",
        "emp_info={'Tom':{'email':'tom_latham019@gmail.com', 'Phone': +1987654321, 'City': 'California'},\n",
        "            'Kathy':{'email':'kathy_abram897@gmail.com', 'Phone': +1887654321, 'City': 'New York'}}\n",
        "\n",
        "print(emp_info['Tom'])\n",
        "print(emp_info['Kathy'])\n"
      ]
    },
    {
      "cell_type": "code",
      "execution_count": 6,
      "metadata": {
        "id": "BAUj-S0fqFWG"
      },
      "outputs": [
        {
          "name": "stdout",
          "output_type": "stream",
          "text": [
            "{'emp1': {'e_name': 'John', 'e_id': 'SG101', 'e_sal': '$10,000'}, 'emp2': {'e_name': 'Smith', 'e_id': 'SG102', 'e_sal': '$9,000'}, 'emp3': {'e_name': 'Peter', 'e_id': 'SG103', 'e_sal': '$9,500'}}\n"
          ]
        }
      ],
      "source": [
        "# Create a dictionary out of below inputs\n",
        "# lst1 = ['emp1', 'emp2', 'emp3']\n",
        "# emp_key = ['e_name', 'e_id', 'e_sal']\n",
        "# emp1_val = ['John', 'SG101', '$10,000']\n",
        "# emp2_val = ['Smith', 'SG102', '$9,000']\n",
        "# emp3_val = ['Peter', 'SG103', '$9,500']\n",
        "\n",
        "# Expected Output:- {'emp1':{'e_name':'John', 'e_id':'SG101', 'e_sal':$10,000}, \n",
        "#                    'emp2':{'e_name':'Smith', 'e_id':'SG102', 'e_sal':$9,000}, \n",
        "#                    'emp3':{'e_name':'Peter', 'e_id':'SG103', 'e_sal':$9,500}}\n",
        "\n",
        "lst1 = ['emp1', 'emp2', 'emp3']\n",
        "emp_key = ['e_name', 'e_id', 'e_sal']\n",
        "emp1_val = ['John', 'SG101', '$10,000']\n",
        "emp2_val = ['Smith', 'SG102', '$9,000']\n",
        "emp3_val = ['Peter', 'SG103', '$9,500']\n",
        "result = dict(zip(lst1, [dict(zip(emp_key, e)) for e in [emp1_val, emp2_val, emp3_val]]))\n",
        "print(result)\n"
      ]
    },
    {
      "cell_type": "code",
      "execution_count": 11,
      "metadata": {
        "id": "LxGZ3jbjrBkj"
      },
      "outputs": [
        {
          "name": "stdout",
          "output_type": "stream",
          "text": [
            "80\n"
          ]
        }
      ],
      "source": [
        "# Acess the value of key 'history'\n",
        "\n",
        "sampleDict = { \"class\":\n",
        "{  \n",
        "   \"student\":\n",
        "   {  \n",
        "      \"name\":\"Mike\",\"marks\":\n",
        "      { \n",
        "         \"physics\":70,\"history\":80\n",
        "         }\n",
        "         }\n",
        "         }\n",
        "         }\n",
        "\n",
        "\n",
        "print(sampleDict['class']['student']['marks']['history'])\n",
        "\n",
        "\n"
      ]
    },
    {
      "cell_type": "code",
      "execution_count": 15,
      "metadata": {
        "id": "Vm8UZbyNrKID"
      },
      "outputs": [
        {
          "name": "stdout",
          "output_type": "stream",
          "text": [
            "{'Kelly': {'designation': 'Application Developer', 'salary': 8000}, 'Emma': {'designation': 'Application Developer', 'salary': 8000}, 'John': {'designation': 'Application Developer', 'salary': 8000}}\n"
          ]
        }
      ],
      "source": [
        "# Initialize dictionary with default values. Inputs are:-\n",
        "# employees = ['Kelly', 'Emma', 'John']\n",
        "# defaults = {\"designation\": 'Application Developer', \"salary\": 8000}\n",
        "\n",
        "#Expected output:- {'Kelly': {'designation': 'Application Developer', 'salary': 8000}, \n",
        "#                   'Emma': {'designation': 'Application Developer', 'salary': 8000}, \n",
        "#                   'John': {'designation': 'Application Developer', 'salary': 8000}}\n",
        "employees = ['Kelly', 'Emma', 'John']\n",
        "emp={}\n",
        "defaults = {\"designation\": 'Application Developer', \"salary\": 8000}\n",
        "for i in employees:\n",
        "    emp[i]=defaults\n",
        "print(emp)\n",
        "\n"
      ]
    },
    {
      "cell_type": "code",
      "execution_count": 19,
      "metadata": {
        "id": "nmFdbaHBrThC"
      },
      "outputs": [
        {
          "data": {
            "text/plain": [
              "'CGAUU'"
            ]
          },
          "execution_count": 19,
          "metadata": {},
          "output_type": "execute_result"
        }
      ],
      "source": [
        "# In gene expression, mRNA is transcribed from a DNA template. \n",
        "# The 4 nucleotide bases of A, T, C, G corresponds to the U, A, G, C bases of the mRNA. \n",
        "# Write a function that returns the mRNA transcript given the sequence of a DNA strand.\n",
        "\n",
        "# Use a dictionary to provide the mapping of DNA to RNA bases.\n",
        "def mRNAtranscription(dna_template):\n",
        "    dna2rna = {'A':'U', 'T':'A', 'C':'G', 'G':'C'  }\n",
        "    mRNA = ''\n",
        "    for base in dna_template:    \n",
        "        mRNA+=(dna2rna.get(base))  \n",
        "    return mRNA\n",
        "mRNAtranscription('GCTAA')"
      ]
    },
    {
      "cell_type": "code",
      "execution_count": 24,
      "metadata": {
        "id": "rop1A1pQw6Uk"
      },
      "outputs": [
        {
          "data": {
            "text/plain": [
              "{'g': 2, 'o': 3, 'l': 1, 'e': 1, '.': 1, 'c': 1, 'm': 1}"
            ]
          },
          "execution_count": 24,
          "metadata": {},
          "output_type": "execute_result"
        }
      ],
      "source": [
        "# Write a function which takes a word as input and returns a dictionary with letters as key and no of time letters are repeated as value.\n",
        "# In - count_letter('google.com')\n",
        "# Out - {'g': 2, 'o': 3, 'l': 1, 'e': 1, '.': 1, 'c': 1, 'm': 1}\n",
        "def countLetters1(word):\n",
        "    dict = {}\n",
        "    for i in set(word):\n",
        "        b = word.count(i, 0, len(word))\n",
        "        dict[i] = b\n",
        "    return dict\n",
        "\n",
        "def countLetters(word):\n",
        "    result = { }\n",
        "    letters = \"\"\n",
        "    for i in word:\n",
        "        if i not in letters:\n",
        "            letters += i\n",
        "            result[i] = 0\n",
        "    for i in word:\n",
        "        if i in letters:\n",
        "            result[i] += 1\n",
        "    return result\n",
        "countLetters('google.com')"
      ]
    },
    {
      "cell_type": "code",
      "execution_count": 25,
      "metadata": {
        "id": "vAwGIoxdw856"
      },
      "outputs": [
        {
          "name": "stdout",
          "output_type": "stream",
          "text": [
            "{'A': 4, 'T': 5, 'C': 8, 'G': 3}\n",
            "{'A': 1, 'T': 1, 'C': 0, 'G': 1}\n"
          ]
        }
      ],
      "source": [
        "# A DNA strand consisting of the 4 nucleotide bases is usually represented with a string of letters: A,T, C, G. \n",
        "# Write a function that computes the base composition of a given DNA sequence.\n",
        "\n",
        "# In - baseComposition(\"CTATCGGCACCCTTTCAGCA\")\n",
        "# Out - {'A': 4, 'C': 8, 'T': 5,  'G': 3 }\n",
        "    \n",
        "# In - baseComposition(\"AGT\")\n",
        "# Out - {'A': 1, 'C': 0, 'T': 1,  'G': 1 }\n",
        "\n",
        "def baseComposition(dna_seq):\n",
        "    result = {'A': 0, 'T':0, 'C':0, 'G':0 }\n",
        "    for char in dna_seq:\n",
        "        if char in result:\n",
        "            result[char] += 1\n",
        "    return result\n",
        "print(baseComposition(\"CTATCGGCACCCTTTCAGCA\"))\n",
        "print(baseComposition(\"AGT\"))"
      ]
    },
    {
      "cell_type": "code",
      "execution_count": 8,
      "metadata": {
        "id": "iVNnSsvaxMDo"
      },
      "outputs": [],
      "source": [
        "# [MCQ] Suppose \"d\" is an empty dictionary, which statement does not assign \"d\" with {\"Name\":\"Tom\"}? \n",
        "# 1. d = {\"Name\": \"Tom\" }\n",
        "# 2. d[\"Name\"] = \"Tom\"\n",
        "# 3. d.update({\"Name\": \"Tom\" })\n",
        "# 4. d.setdefault(\"Name\", \"Tom\")\n",
        "# 5. None of the above.\n",
        "\n",
        "#Ans: 5"
      ]
    },
    {
      "cell_type": "code",
      "execution_count": 16,
      "metadata": {
        "id": "tOgsXi2axnhF"
      },
      "outputs": [],
      "source": [
        "# [MCQ] d = {\"a\":1, \"b\":2}. Which of the statements returns [1,2]? \n",
        "# 1. d.keys()\n",
        "# 2. d.values()\n",
        "# 3. d.items()\n",
        "# 4. d.popitem()\n",
        "# 5. None of the above.\n",
        "\n",
        "#Ans:2"
      ]
    },
    {
      "cell_type": "code",
      "execution_count": null,
      "metadata": {
        "id": "BeNNopkDzK0k"
      },
      "outputs": [],
      "source": [
        "# [MCQ] Which of the following declarations is not valid for 'dict' type?\n",
        "# 1. d = {\"Name\": \"Tom\" }\n",
        "# 2. d = { (1,3,4): 4.5 }\n",
        "# 3. d = { [\"First\", \"Last\"]: (1,3) }\n",
        "# 4. d = { 1: 0.4 }\n",
        "# 5. None of the above\n",
        "\n",
        "#Ans:3"
      ]
    },
    {
      "cell_type": "code",
      "execution_count": 26,
      "metadata": {
        "id": "7kPbKcfMzTHP"
      },
      "outputs": [
        {
          "name": "stdout",
          "output_type": "stream",
          "text": [
            "['a']\n",
            "['b', 'c']\n",
            "[]\n"
          ]
        }
      ],
      "source": [
        "# Write a function reverseLookup(dictionary, value) that takes in a dictionary \n",
        "# and a value as arguments and returns a sorted list of all keys that contains the value. \n",
        "# The function will return an empty list if no match is found.\n",
        "\n",
        "# In - reverseLookup({'a':1, 'b':2, 'c':2}, 1)\n",
        "# Out - ['a']\n",
        "# In - reverseLookup({'a':1, 'b':2, 'c':2}, 2)\n",
        "# Out - ['b', 'c']\n",
        "# In - reverseLookup({'a':1, 'b':2, 'c':2}, 3)\n",
        "# Out - []\n",
        "\n",
        "def reverseLookup(dictionary, value):\n",
        "    result_list = []\n",
        "    for val in dictionary.keys():\n",
        "        if dictionary[val] == value:\n",
        "            result_list.extend(val)\n",
        "    return sorted(result_list)\n",
        "\n",
        "\n",
        "print(reverseLookup({'a':1, 'b':2, 'c':2}, 1))\n",
        "print(reverseLookup({'a':1, 'b':2, 'c':2}, 2))\n",
        "print(reverseLookup({'a':1, 'b':2, 'c':2}, 3))"
      ]
    },
    {
      "cell_type": "code",
      "execution_count": 38,
      "metadata": {
        "id": "s87Rvg2HDFYp"
      },
      "outputs": [
        {
          "name": "stdout",
          "output_type": "stream",
          "text": [
            "[(1, ['a']), (2, ['b', 'd']), (3, ['c'])]\n",
            "[(3, ['a', 'b', 'c'])]\n",
            "[(1, ['b', 'd']), (2, ['a', 'c'])]\n"
          ]
        }
      ],
      "source": [
        "# Write a function invertDictionary(d) that takes in a dictionary as argument and return a dictionary that inverts the keys and the values of the original dictionary.\n",
        "# In - invertDictionary({'a':1, 'b':2, 'c':3, 'd':2})\n",
        "# Out - {1: ['a'], 2: ['b', 'd'], 3: ['c']}\n",
        "# In - invertDictionary({'a':3, 'b':3, 'c':3})\n",
        "# Out - {3: ['a', 'c', 'b']}\n",
        "# In - invertDictionary({'a':2, 'b':1, 'c':2, 'd':1})\n",
        "# Out - {1: ['b', 'd'], 2: ['a', 'c']}\n",
        "\n",
        "def invertDictionary(dictionary):\n",
        "    newdict = {}\n",
        "    for key, value in dictionary.items():\n",
        "        newdict.setdefault(value, []).append(key)\n",
        "    return sorted(newdict.items())\n",
        "print(invertDictionary({'a':1, 'b':2, 'c':3, 'd':2}))\n",
        "print(invertDictionary({'a':3, 'b':3, 'c':3}))\n",
        "print(invertDictionary({'a':2, 'b':1, 'c':2, 'd':1}))\n",
        "\n"
      ]
    },
    {
      "cell_type": "code",
      "execution_count": 40,
      "metadata": {
        "id": "DgYyaZU6Oz7E"
      },
      "outputs": [
        {
          "name": "stdout",
          "output_type": "stream",
          "text": [
            "{0: 1, 3: 2, 7: 3, 12: 4}\n",
            "{0: 1, 2: 1, 4: 2, 6: 1, 9: 1}\n",
            "{}\n"
          ]
        }
      ],
      "source": [
        "# Write a function that converts a sparse vector into a dictionary as described above.\n",
        "# In - convertVector([1, 0, 0, 2, 0, 0, 0, 3, 0, 0, 0, 0, 4])\n",
        "# Out - {0: 1, 3: 2, 7: 3, 12: 4}\n",
        "# In - convertVector([1, 0, 1 , 0, 2, 0, 1, 0, 0, 1, 0])\n",
        "# Out - {0: 1, 2: 1, 4: 2, 6: 1, 9: 1}\n",
        "# In - convertVector([0, 0, 0, 0, 0])\n",
        "# Out - {}\n",
        "def convertVector(numbers):\n",
        "    dict = {}\n",
        "    count = 0\n",
        "    for i in numbers:\n",
        "        if i != 0:\n",
        "            dict[count] = i\n",
        "        count+=1    \n",
        "    return dict\n",
        "print(convertVector([1, 0, 0, 2, 0, 0, 0, 3, 0, 0, 0, 0, 4]))\n",
        "print(convertVector([1, 0, 1 , 0, 2, 0, 1, 0, 0, 1, 0]))\n",
        "print(convertVector([0, 0, 0, 0, 0]))"
      ]
    },
    {
      "cell_type": "code",
      "execution_count": 41,
      "metadata": {
        "id": "ETCmEcflTGCI"
      },
      "outputs": [
        {
          "name": "stdout",
          "output_type": "stream",
          "text": [
            "[1, 0, 0, 2, 0, 0, 0, 3, 0, 0, 0, 0, 4]\n",
            "[1, 0, 1, 0, 2, 0, 1, 0, 0, 1]\n",
            "[]\n"
          ]
        }
      ],
      "source": [
        "# Write a function that converts a dictionary back to its sparse vector representation.\n",
        "# In - convertDictionary({0: 1, 3: 2, 7: 3, 12: 4})\n",
        "# Out - [1, 0, 0, 2, 0, 0, 0, 3, 0, 0, 0, 0, 4]\n",
        "# In - convertDictionary({0: 1, 2: 1, 4: 2, 6: 1, 9: 1})\n",
        "# Out - [1, 0, 1, 0, 2, 0, 1, 0, 0, 1]\n",
        "# In - convertDictionary({})\n",
        "# Out - []\n",
        "def convertDictionary(d):\n",
        "    if(d == {}):\n",
        "        return []\n",
        "    maxElem = max([int(s) for s in d.keys()])\n",
        "    return [d.get(x, 0) for x in range(maxElem+1)]\n",
        "print(convertDictionary({0: 1, 3: 2, 7: 3, 12: 4}))\n",
        "print(convertDictionary({0: 1, 2: 1, 4: 2, 6: 1, 9: 1}))\n",
        "print(convertDictionary({}))\n"
      ]
    },
    {
      "cell_type": "code",
      "execution_count": 43,
      "metadata": {
        "id": "tTANm2QKZXh3"
      },
      "outputs": [
        {
          "name": "stdout",
          "output_type": "stream",
          "text": [
            "{'emp1': {'name': 'Jhon', 'salary': 7500}, 'emp2': {'name': 'Emma', 'salary': 8000}, 'emp3': {'name': 'Brad', 'salary': 8500}}\n"
          ]
        }
      ],
      "source": [
        "# Given a Python dictionary, Change Brad’s salary to 8500\n",
        "# sampleDict = {\n",
        "#      'emp1': {'name': 'Jhon', 'salary': 7500},\n",
        "#      'emp2': {'name': 'Emma', 'salary': 8000},\n",
        "#      'emp3': {'name': 'Brad', 'salary': 6500}\n",
        "# }\n",
        "\n",
        "# Expected Output\n",
        "# sampleDict = {\n",
        "#      'emp1': {'name': 'Jhon', 'salary': 7500},\n",
        "#      'emp2': {'name': 'Emma', 'salary': 8000},\n",
        "#      'emp3': {'name': 'Brad', 'salary': 8500}\n",
        "# }\n",
        "sampleDict = {\n",
        "     'emp1': {'name': 'Jhon', 'salary': 7500},\n",
        "     'emp2': {'name': 'Emma', 'salary': 8000},\n",
        "     'emp3': {'name': 'Brad', 'salary': 6500}\n",
        "}\n",
        "\n",
        "sampleDict['emp3']['salary'] = 8500\n",
        "print(sampleDict)"
      ]
    },
    {
      "cell_type": "code",
      "execution_count": 44,
      "metadata": {
        "id": "8dUHXiCVZmUx"
      },
      "outputs": [
        {
          "name": "stdout",
          "output_type": "stream",
          "text": [
            "Math\n"
          ]
        }
      ],
      "source": [
        "# Get the key corresponding to the minimum value from the following dictionary\n",
        "# sampleDict = {\n",
        "#   'Physics': 82,\n",
        "#   'Math': 65,\n",
        "#   'history': 75\n",
        "# }\n",
        "\n",
        "# Expected Output\n",
        "# Math\n",
        "sampleDict = {\n",
        "  'Physics': 82,\n",
        "  'Math': 65,\n",
        "  'history': 75\n",
        "}\n",
        "print(min(sampleDict, key=sampleDict.get))\n",
        "\n"
      ]
    },
    {
      "cell_type": "code",
      "execution_count": 46,
      "metadata": {
        "id": "AQe5QNGdZ7aJ"
      },
      "outputs": [
        {
          "data": {
            "text/plain": [
              "{'name': 'Kelly', 'age': 25, 'salary': 8000, 'location': 'New york'}"
            ]
          },
          "execution_count": 46,
          "metadata": {},
          "output_type": "execute_result"
        }
      ],
      "source": [
        "# Rename key city to location in the following dictionary\n",
        "# sampleDict = {\n",
        "#   \"name\": \"Kelly\",\n",
        "#   \"age\":25,\n",
        "#   \"salary\": 8000,\n",
        "#   \"city\": \"New york\"\n",
        "# }\n",
        "\n",
        "# Expected Output\n",
        "# {\n",
        "#   \"name\": \"Kelly\",\n",
        "#   \"age\":25,\n",
        "#   \"salary\": 8000,\n",
        "#   \"location\": \"New york\"\n",
        "# }\n",
        "\n",
        "sampleDict = {\n",
        "  \"name\": \"Kelly\",\n",
        "  \"age\":25,\n",
        "  \"salary\": 8000,\n",
        "  \"city\": \"New york\"\n",
        "}\n",
        "sampleDict['location'] = sampleDict.pop('city')\n",
        "\n",
        "sampleDict"
      ]
    },
    {
      "cell_type": "code",
      "execution_count": 47,
      "metadata": {
        "id": "e19_ddO9aNNw"
      },
      "outputs": [
        {
          "name": "stdout",
          "output_type": "stream",
          "text": [
            "True\n"
          ]
        }
      ],
      "source": [
        "# Check if a value 200 exists in a dictionary\n",
        "# sampleDict = {'a': 100, 'b': 200, 'c': 300}\n",
        "\n",
        "# Expected Output: True\n",
        "\n",
        "sampleDict = {'a': 100, 'b': 200, 'c': 300}\n",
        "\n",
        "if 200 in sampleDict.values():\n",
        "    print(True)"
      ]
    },
    {
      "cell_type": "code",
      "execution_count": 48,
      "metadata": {
        "id": "yphwjc1gabMa"
      },
      "outputs": [
        {
          "data": {
            "text/plain": [
              "{'age': 25, 'city': 'New york'}"
            ]
          },
          "execution_count": 48,
          "metadata": {},
          "output_type": "execute_result"
        }
      ],
      "source": [
        "# Delete set of keys from Python Dictionary\n",
        "# sampleDict = {\n",
        "#   \"name\": \"Kelly\",\n",
        "#   \"age\":25,\n",
        "#   \"salary\": 8000,\n",
        "#   \"city\": \"New york\"\n",
        "  \n",
        "# }\n",
        "# keysToRemove = [\"name\", \"salary\"]\n",
        "\n",
        "# Expected Output:\n",
        "# {'city': 'New york', 'age': 25}\n",
        "\n",
        "sampleDict = { \"name\": \"Kelly\", \"age\":25, \"salary\": 8000, \"city\": \"New york\"}\n",
        "\n",
        "keysToRemove = [\"name\", \"salary\"]\n",
        "\n",
        "for x in keysToRemove:\n",
        "    sampleDict.pop(x)\n",
        "sampleDict"
      ]
    }
  ],
  "metadata": {
    "colab": {
      "name": "Dictionary_Assignment.ipynb",
      "provenance": []
    },
    "kernelspec": {
      "display_name": "Python 3",
      "name": "python3"
    },
    "language_info": {
      "codemirror_mode": {
        "name": "ipython",
        "version": 3
      },
      "file_extension": ".py",
      "mimetype": "text/x-python",
      "name": "python",
      "nbconvert_exporter": "python",
      "pygments_lexer": "ipython3",
      "version": "3.8.8"
    }
  },
  "nbformat": 4,
  "nbformat_minor": 0
}
